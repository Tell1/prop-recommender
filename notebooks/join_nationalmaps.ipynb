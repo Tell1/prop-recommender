{
 "cells": [
  {
   "cell_type": "markdown",
   "metadata": {},
   "source": [
    "# Join national maps data\n",
    " - population\n",
    " - income"
   ]
  },
  {
   "cell_type": "code",
   "execution_count": 1,
   "metadata": {},
   "outputs": [],
   "source": [
    "from pathlib import Path\n",
    "\n",
    "\n",
    "DATA_DIR = (Path().resolve().parent / \"data\" )\n",
    "income_path = DATA_DIR / \"01_interim\" / \"nationalmaps\" / \"Census_2021_G17_Total_personal_income_weekly_by_age_by_sex_Main_Statistical_Areas_Level_2_and_up_SA2_.shp\"\n",
    "if not income_path.exists():\n",
    "    print(\"File not found: \", income_path)\n",
    "    \n",
    "population_path = DATA_DIR / \"00_raw\" / \"nationalmaps\" / \"32350_ERP_Age_Sex_SA2_2022_gpkg\" / \"SA2 ERP by Age and Sex GeoPackage 2022.gpkg\"\n",
    "if not population_path.exists():\n",
    "    print(\"File not found: \", population_path)\n",
    "    \n",
    "joined_data_path = DATA_DIR / \"01_interim\" / \"nationalmaps\" / \"joined_nationalmaps.shp\"\n"
   ]
  },
  {
   "cell_type": "markdown",
   "metadata": {},
   "source": [
    "# Load both frames"
   ]
  },
  {
   "cell_type": "code",
   "execution_count": 28,
   "metadata": {},
   "outputs": [],
   "source": [
    "import geopandas as gpd\n",
    "df_income = gpd.read_file(income_path)\n",
    "\n",
    "df_pop = gpd.read_file(population_path)"
   ]
  },
  {
   "cell_type": "code",
   "execution_count": 43,
   "metadata": {},
   "outputs": [
    {
     "name": "stdout",
     "output_type": "stream",
     "text": [
      "<class 'geopandas.geodataframe.GeoDataFrame'>\n",
      "RangeIndex: 2472 entries, 0 to 2471\n",
      "Data columns (total 14 columns):\n",
      " #   Column      Non-Null Count  Dtype   \n",
      "---  ------      --------------  -----   \n",
      " 0   DATAFLOW    2472 non-null   object  \n",
      " 1   SEXP        2472 non-null   object  \n",
      " 2   INCP        2472 non-null   object  \n",
      " 3   AGEP        2472 non-null   object  \n",
      " 4   REGION      2472 non-null   object  \n",
      " 5   REGION_TYP  2472 non-null   object  \n",
      " 6   STATE       2472 non-null   object  \n",
      " 7   TIME_PERIO  2472 non-null   object  \n",
      " 8   OBS_VALUE   2472 non-null   object  \n",
      " 9   SA2_CODE21  2472 non-null   int64   \n",
      " 10  SA2_NAME21  2472 non-null   object  \n",
      " 11  STE_NAME21  2472 non-null   object  \n",
      " 12  gender      2472 non-null   object  \n",
      " 13  geometry    2454 non-null   geometry\n",
      "dtypes: geometry(1), int64(1), object(12)\n",
      "memory usage: 270.5+ KB\n"
     ]
    }
   ],
   "source": [
    "df_income.info()"
   ]
  },
  {
   "cell_type": "code",
   "execution_count": 44,
   "metadata": {},
   "outputs": [
    {
     "name": "stdout",
     "output_type": "stream",
     "text": [
      "<class 'geopandas.geodataframe.GeoDataFrame'>\n",
      "RangeIndex: 2454 entries, 0 to 2453\n",
      "Data columns (total 70 columns):\n",
      " #   Column              Non-Null Count  Dtype   \n",
      "---  ------              --------------  -----   \n",
      " 0   STE_CODE21          2454 non-null   int64   \n",
      " 1   STE_NAME21          2454 non-null   object  \n",
      " 2   GCC_CODE21          2454 non-null   object  \n",
      " 3   GCC_NAME21          2454 non-null   object  \n",
      " 4   SA4_CODE21          2454 non-null   int64   \n",
      " 5   SA4_NAME21          2454 non-null   object  \n",
      " 6   SA3_CODE21          2454 non-null   int64   \n",
      " 7   SA3_NAME21          2454 non-null   object  \n",
      " 8   SA2_CODE21          2454 non-null   int64   \n",
      " 9   SA2_NAME21          2454 non-null   object  \n",
      " 10  Males               2454 non-null   int64   \n",
      " 11  Females             2454 non-null   int64   \n",
      " 12  Persons             2454 non-null   int64   \n",
      " 13  Sex_ratio           2408 non-null   float64 \n",
      " 14  Median_age_persons  2417 non-null   float64 \n",
      " 15  M0_4                2454 non-null   int64   \n",
      " 16  M5_9                2454 non-null   int64   \n",
      " 17  M10_14              2454 non-null   int64   \n",
      " 18  M15_19              2454 non-null   int64   \n",
      " 19  M20_24              2454 non-null   int64   \n",
      " 20  M25_29              2454 non-null   int64   \n",
      " 21  M30_34              2454 non-null   int64   \n",
      " 22  M35_39              2454 non-null   int64   \n",
      " 23  M40_44              2454 non-null   int64   \n",
      " 24  M45_49              2454 non-null   int64   \n",
      " 25  M50_54              2454 non-null   int64   \n",
      " 26  M55_59              2454 non-null   int64   \n",
      " 27  M60_64              2454 non-null   int64   \n",
      " 28  M65_69              2454 non-null   int64   \n",
      " 29  M70_74              2454 non-null   int64   \n",
      " 30  M75_79              2454 non-null   int64   \n",
      " 31  M80_84              2454 non-null   int64   \n",
      " 32  M85_and_over        2454 non-null   int64   \n",
      " 33  F0_4                2454 non-null   int64   \n",
      " 34  F5_9                2454 non-null   int64   \n",
      " 35  F10_14              2454 non-null   int64   \n",
      " 36  F15_19              2454 non-null   int64   \n",
      " 37  F20_24              2454 non-null   int64   \n",
      " 38  F25_29              2454 non-null   int64   \n",
      " 39  F30_34              2454 non-null   int64   \n",
      " 40  F35_39              2454 non-null   int64   \n",
      " 41  F40_44              2454 non-null   int64   \n",
      " 42  F45_49              2454 non-null   int64   \n",
      " 43  F50_54              2454 non-null   int64   \n",
      " 44  F55_59              2454 non-null   int64   \n",
      " 45  F60_64              2454 non-null   int64   \n",
      " 46  F65_69              2454 non-null   int64   \n",
      " 47  F70_74              2454 non-null   int64   \n",
      " 48  F75_79              2454 non-null   int64   \n",
      " 49  F80_84              2454 non-null   int64   \n",
      " 50  F85_and_over        2454 non-null   int64   \n",
      " 51  P0_4                2454 non-null   int64   \n",
      " 52  P5_9                2454 non-null   int64   \n",
      " 53  P10_14              2454 non-null   int64   \n",
      " 54  P15_19              2454 non-null   int64   \n",
      " 55  P20_24              2454 non-null   int64   \n",
      " 56  P25_29              2454 non-null   int64   \n",
      " 57  P30_34              2454 non-null   int64   \n",
      " 58  P35_39              2454 non-null   int64   \n",
      " 59  P40_44              2454 non-null   int64   \n",
      " 60  P45_49              2454 non-null   int64   \n",
      " 61  P50_54              2454 non-null   int64   \n",
      " 62  P55_59              2454 non-null   int64   \n",
      " 63  P60_64              2454 non-null   int64   \n",
      " 64  P65_69              2454 non-null   int64   \n",
      " 65  P70_74              2454 non-null   int64   \n",
      " 66  P75_79              2454 non-null   int64   \n",
      " 67  P80_84              2454 non-null   int64   \n",
      " 68  P85_and_over        2454 non-null   int64   \n",
      " 69  geometry            2454 non-null   geometry\n",
      "dtypes: float64(2), geometry(1), int64(61), object(6)\n",
      "memory usage: 1.3+ MB\n"
     ]
    }
   ],
   "source": [
    "df_pop.info()"
   ]
  },
  {
   "cell_type": "code",
   "execution_count": 45,
   "metadata": {},
   "outputs": [
    {
     "data": {
      "text/plain": [
       "set()"
      ]
     },
     "execution_count": 45,
     "metadata": {},
     "output_type": "execute_result"
    }
   ],
   "source": [
    "# area Codes not in both files\n",
    "set(df_pop.SA2_CODE21) - set(df_income.SA2_CODE21)"
   ]
  },
  {
   "cell_type": "code",
   "execution_count": 16,
   "metadata": {},
   "outputs": [
    {
     "data": {
      "text/html": [
       "<div>\n",
       "<style scoped>\n",
       "    .dataframe tbody tr th:only-of-type {\n",
       "        vertical-align: middle;\n",
       "    }\n",
       "\n",
       "    .dataframe tbody tr th {\n",
       "        vertical-align: top;\n",
       "    }\n",
       "\n",
       "    .dataframe thead th {\n",
       "        text-align: right;\n",
       "    }\n",
       "</style>\n",
       "<table border=\"1\" class=\"dataframe\">\n",
       "  <thead>\n",
       "    <tr style=\"text-align: right;\">\n",
       "      <th></th>\n",
       "      <th>STE_CODE21</th>\n",
       "      <th>STE_NAME21</th>\n",
       "      <th>GCC_CODE21</th>\n",
       "      <th>GCC_NAME21</th>\n",
       "      <th>SA4_CODE21</th>\n",
       "      <th>SA4_NAME21</th>\n",
       "      <th>SA3_CODE21</th>\n",
       "      <th>SA3_NAME21</th>\n",
       "      <th>SA2_CODE21</th>\n",
       "      <th>SA2_NAME21</th>\n",
       "      <th>...</th>\n",
       "      <th>P45_49</th>\n",
       "      <th>P50_54</th>\n",
       "      <th>P55_59</th>\n",
       "      <th>P60_64</th>\n",
       "      <th>P65_69</th>\n",
       "      <th>P70_74</th>\n",
       "      <th>P75_79</th>\n",
       "      <th>P80_84</th>\n",
       "      <th>P85_and_over</th>\n",
       "      <th>geometry</th>\n",
       "    </tr>\n",
       "  </thead>\n",
       "  <tbody>\n",
       "    <tr>\n",
       "      <th>0</th>\n",
       "      <td>1</td>\n",
       "      <td>New South Wales</td>\n",
       "      <td>1RNSW</td>\n",
       "      <td>Rest of NSW</td>\n",
       "      <td>101</td>\n",
       "      <td>Capital Region</td>\n",
       "      <td>10102</td>\n",
       "      <td>Queanbeyan</td>\n",
       "      <td>101021007</td>\n",
       "      <td>Braidwood</td>\n",
       "      <td>...</td>\n",
       "      <td>280</td>\n",
       "      <td>318</td>\n",
       "      <td>355</td>\n",
       "      <td>447</td>\n",
       "      <td>343</td>\n",
       "      <td>270</td>\n",
       "      <td>260</td>\n",
       "      <td>128</td>\n",
       "      <td>87</td>\n",
       "      <td>POLYGON ((149.58423 -35.44427, 149.58444 -35.4...</td>\n",
       "    </tr>\n",
       "  </tbody>\n",
       "</table>\n",
       "<p>1 rows × 70 columns</p>\n",
       "</div>"
      ],
      "text/plain": [
       "   STE_CODE21       STE_NAME21 GCC_CODE21   GCC_NAME21  SA4_CODE21  \\\n",
       "0           1  New South Wales      1RNSW  Rest of NSW         101   \n",
       "\n",
       "       SA4_NAME21  SA3_CODE21  SA3_NAME21  SA2_CODE21 SA2_NAME21  ...  P45_49  \\\n",
       "0  Capital Region       10102  Queanbeyan   101021007  Braidwood  ...     280   \n",
       "\n",
       "   P50_54  P55_59  P60_64  P65_69  P70_74  P75_79  P80_84  P85_and_over  \\\n",
       "0     318     355     447     343     270     260     128            87   \n",
       "\n",
       "                                            geometry  \n",
       "0  POLYGON ((149.58423 -35.44427, 149.58444 -35.4...  \n",
       "\n",
       "[1 rows x 70 columns]"
      ]
     },
     "execution_count": 16,
     "metadata": {},
     "output_type": "execute_result"
    }
   ],
   "source": [
    "df_pop.head(1)"
   ]
  },
  {
   "cell_type": "code",
   "execution_count": 41,
   "metadata": {},
   "outputs": [],
   "source": [
    "# cast to same type as df_pop\n",
    "df_income.SA2_CODE21 = df_income.SA2_CODE21.astype('int64')"
   ]
  },
  {
   "cell_type": "code",
   "execution_count": 108,
   "metadata": {},
   "outputs": [
    {
     "name": "stdout",
     "output_type": "stream",
     "text": [
      "unique statistical area 2 codes: income = 2472, pop = 2454\n"
     ]
    }
   ],
   "source": [
    "print(f\"unique statistical area 2 codes: income = {len(df_income.SA2_CODE21.unique())}, pop = {len(df_pop.SA2_CODE21.unique())}\")\n",
    "\n",
    "\n",
    "df = df_pop.merge(df_income.loc[:,['SA2_CODE21','OBS_VALUE']], left_on='SA2_CODE21', right_on='SA2_CODE21')\n",
    "display('Shape:',df.shape)"
   ]
  },
  {
   "cell_type": "code",
   "execution_count": 109,
   "metadata": {},
   "outputs": [
    {
     "name": "stdout",
     "output_type": "stream",
     "text": [
      "<class 'geopandas.geodataframe.GeoDataFrame'>\n",
      "RangeIndex: 2454 entries, 0 to 2453\n",
      "Data columns (total 71 columns):\n",
      " #   Column              Non-Null Count  Dtype   \n",
      "---  ------              --------------  -----   \n",
      " 0   STE_CODE21          2454 non-null   int64   \n",
      " 1   STE_NAME21          2454 non-null   object  \n",
      " 2   GCC_CODE21          2454 non-null   object  \n",
      " 3   GCC_NAME21          2454 non-null   object  \n",
      " 4   SA4_CODE21          2454 non-null   int64   \n",
      " 5   SA4_NAME21          2454 non-null   object  \n",
      " 6   SA3_CODE21          2454 non-null   int64   \n",
      " 7   SA3_NAME21          2454 non-null   object  \n",
      " 8   SA2_CODE21          2454 non-null   int64   \n",
      " 9   SA2_NAME21          2454 non-null   object  \n",
      " 10  Males               2454 non-null   int64   \n",
      " 11  Females             2454 non-null   int64   \n",
      " 12  Persons             2454 non-null   int64   \n",
      " 13  Sex_ratio           2408 non-null   float64 \n",
      " 14  Median_age_persons  2417 non-null   float64 \n",
      " 15  M0_4                2454 non-null   int64   \n",
      " 16  M5_9                2454 non-null   int64   \n",
      " 17  M10_14              2454 non-null   int64   \n",
      " 18  M15_19              2454 non-null   int64   \n",
      " 19  M20_24              2454 non-null   int64   \n",
      " 20  M25_29              2454 non-null   int64   \n",
      " 21  M30_34              2454 non-null   int64   \n",
      " 22  M35_39              2454 non-null   int64   \n",
      " 23  M40_44              2454 non-null   int64   \n",
      " 24  M45_49              2454 non-null   int64   \n",
      " 25  M50_54              2454 non-null   int64   \n",
      " 26  M55_59              2454 non-null   int64   \n",
      " 27  M60_64              2454 non-null   int64   \n",
      " 28  M65_69              2454 non-null   int64   \n",
      " 29  M70_74              2454 non-null   int64   \n",
      " 30  M75_79              2454 non-null   int64   \n",
      " 31  M80_84              2454 non-null   int64   \n",
      " 32  M85_and_over        2454 non-null   int64   \n",
      " 33  F0_4                2454 non-null   int64   \n",
      " 34  F5_9                2454 non-null   int64   \n",
      " 35  F10_14              2454 non-null   int64   \n",
      " 36  F15_19              2454 non-null   int64   \n",
      " 37  F20_24              2454 non-null   int64   \n",
      " 38  F25_29              2454 non-null   int64   \n",
      " 39  F30_34              2454 non-null   int64   \n",
      " 40  F35_39              2454 non-null   int64   \n",
      " 41  F40_44              2454 non-null   int64   \n",
      " 42  F45_49              2454 non-null   int64   \n",
      " 43  F50_54              2454 non-null   int64   \n",
      " 44  F55_59              2454 non-null   int64   \n",
      " 45  F60_64              2454 non-null   int64   \n",
      " 46  F65_69              2454 non-null   int64   \n",
      " 47  F70_74              2454 non-null   int64   \n",
      " 48  F75_79              2454 non-null   int64   \n",
      " 49  F80_84              2454 non-null   int64   \n",
      " 50  F85_and_over        2454 non-null   int64   \n",
      " 51  P0_4                2454 non-null   int64   \n",
      " 52  P5_9                2454 non-null   int64   \n",
      " 53  P10_14              2454 non-null   int64   \n",
      " 54  P15_19              2454 non-null   int64   \n",
      " 55  P20_24              2454 non-null   int64   \n",
      " 56  P25_29              2454 non-null   int64   \n",
      " 57  P30_34              2454 non-null   int64   \n",
      " 58  P35_39              2454 non-null   int64   \n",
      " 59  P40_44              2454 non-null   int64   \n",
      " 60  P45_49              2454 non-null   int64   \n",
      " 61  P50_54              2454 non-null   int64   \n",
      " 62  P55_59              2454 non-null   int64   \n",
      " 63  P60_64              2454 non-null   int64   \n",
      " 64  P65_69              2454 non-null   int64   \n",
      " 65  P70_74              2454 non-null   int64   \n",
      " 66  P75_79              2454 non-null   int64   \n",
      " 67  P80_84              2454 non-null   int64   \n",
      " 68  P85_and_over        2454 non-null   int64   \n",
      " 69  geometry            2454 non-null   geometry\n",
      " 70  OBS_VALUE           2454 non-null   object  \n",
      "dtypes: float64(2), geometry(1), int64(61), object(7)\n",
      "memory usage: 1.3+ MB\n"
     ]
    }
   ],
   "source": [
    "df.info()"
   ]
  },
  {
   "cell_type": "markdown",
   "metadata": {},
   "source": [
    "## Missing data"
   ]
  },
  {
   "cell_type": "code",
   "execution_count": 110,
   "metadata": {},
   "outputs": [
    {
     "data": {
      "text/plain": [
       "'Missing rows;'"
      ]
     },
     "metadata": {},
     "output_type": "display_data"
    },
    {
     "data": {
      "text/plain": [
       "Sex_ratio             46\n",
       "Median_age_persons    37\n",
       "dtype: int64"
      ]
     },
     "metadata": {},
     "output_type": "display_data"
    },
    {
     "data": {
      "text/plain": [
       "'Co-occuring missing rows;'"
      ]
     },
     "metadata": {},
     "output_type": "display_data"
    },
    {
     "data": {
      "text/plain": [
       "0"
      ]
     },
     "metadata": {},
     "output_type": "display_data"
    },
    {
     "data": {
      "text/html": [
       "<div>\n",
       "<style scoped>\n",
       "    .dataframe tbody tr th:only-of-type {\n",
       "        vertical-align: middle;\n",
       "    }\n",
       "\n",
       "    .dataframe tbody tr th {\n",
       "        vertical-align: top;\n",
       "    }\n",
       "\n",
       "    .dataframe thead th {\n",
       "        text-align: right;\n",
       "    }\n",
       "</style>\n",
       "<table border=\"1\" class=\"dataframe\">\n",
       "  <thead>\n",
       "    <tr style=\"text-align: right;\">\n",
       "      <th></th>\n",
       "      <th>STE_CODE21</th>\n",
       "      <th>STE_NAME21</th>\n",
       "      <th>GCC_CODE21</th>\n",
       "      <th>GCC_NAME21</th>\n",
       "      <th>SA4_CODE21</th>\n",
       "      <th>SA4_NAME21</th>\n",
       "      <th>SA3_CODE21</th>\n",
       "      <th>SA3_NAME21</th>\n",
       "      <th>SA2_CODE21</th>\n",
       "      <th>SA2_NAME21</th>\n",
       "      <th>...</th>\n",
       "      <th>P50_54</th>\n",
       "      <th>P55_59</th>\n",
       "      <th>P60_64</th>\n",
       "      <th>P65_69</th>\n",
       "      <th>P70_74</th>\n",
       "      <th>P75_79</th>\n",
       "      <th>P80_84</th>\n",
       "      <th>P85_and_over</th>\n",
       "      <th>geometry</th>\n",
       "      <th>OBS_VALUE</th>\n",
       "    </tr>\n",
       "  </thead>\n",
       "  <tbody>\n",
       "    <tr>\n",
       "      <th>76</th>\n",
       "      <td>1</td>\n",
       "      <td>New South Wales</td>\n",
       "      <td>1RNSW</td>\n",
       "      <td>Rest of NSW</td>\n",
       "      <td>103</td>\n",
       "      <td>Central West</td>\n",
       "      <td>10303</td>\n",
       "      <td>Lithgow - Mudgee</td>\n",
       "      <td>103031075</td>\n",
       "      <td>Wollangambe - Wollemi</td>\n",
       "      <td>...</td>\n",
       "      <td>0</td>\n",
       "      <td>0</td>\n",
       "      <td>0</td>\n",
       "      <td>0</td>\n",
       "      <td>0</td>\n",
       "      <td>0</td>\n",
       "      <td>0</td>\n",
       "      <td>0</td>\n",
       "      <td>POLYGON ((150.34697 -33.14450, 150.34693 -33.1...</td>\n",
       "      <td>0</td>\n",
       "    </tr>\n",
       "    <tr>\n",
       "      <th>135</th>\n",
       "      <td>1</td>\n",
       "      <td>New South Wales</td>\n",
       "      <td>1RNSW</td>\n",
       "      <td>Rest of NSW</td>\n",
       "      <td>107</td>\n",
       "      <td>Illawarra</td>\n",
       "      <td>10701</td>\n",
       "      <td>Dapto - Port Kembla</td>\n",
       "      <td>107011133</td>\n",
       "      <td>Port Kembla Industrial</td>\n",
       "      <td>...</td>\n",
       "      <td>0</td>\n",
       "      <td>2</td>\n",
       "      <td>1</td>\n",
       "      <td>1</td>\n",
       "      <td>0</td>\n",
       "      <td>0</td>\n",
       "      <td>0</td>\n",
       "      <td>0</td>\n",
       "      <td>MULTIPOLYGON (((150.94708 -34.46453, 150.94712...</td>\n",
       "      <td>5</td>\n",
       "    </tr>\n",
       "    <tr>\n",
       "      <th>373</th>\n",
       "      <td>1</td>\n",
       "      <td>New South Wales</td>\n",
       "      <td>1GSYD</td>\n",
       "      <td>Greater Sydney</td>\n",
       "      <td>118</td>\n",
       "      <td>Sydney - Eastern Suburbs</td>\n",
       "      <td>11801</td>\n",
       "      <td>Eastern Suburbs - North</td>\n",
       "      <td>118011342</td>\n",
       "      <td>Centennial Park</td>\n",
       "      <td>...</td>\n",
       "      <td>0</td>\n",
       "      <td>0</td>\n",
       "      <td>0</td>\n",
       "      <td>0</td>\n",
       "      <td>0</td>\n",
       "      <td>0</td>\n",
       "      <td>0</td>\n",
       "      <td>0</td>\n",
       "      <td>POLYGON ((151.23775 -33.89066, 151.23873 -33.8...</td>\n",
       "      <td>0</td>\n",
       "    </tr>\n",
       "    <tr>\n",
       "      <th>727</th>\n",
       "      <td>2</td>\n",
       "      <td>Victoria</td>\n",
       "      <td>2RVIC</td>\n",
       "      <td>Rest of Vic.</td>\n",
       "      <td>205</td>\n",
       "      <td>Latrobe - Gippsland</td>\n",
       "      <td>20502</td>\n",
       "      <td>Gippsland - East</td>\n",
       "      <td>205021080</td>\n",
       "      <td>Alps - East</td>\n",
       "      <td>...</td>\n",
       "      <td>0</td>\n",
       "      <td>0</td>\n",
       "      <td>0</td>\n",
       "      <td>0</td>\n",
       "      <td>0</td>\n",
       "      <td>0</td>\n",
       "      <td>0</td>\n",
       "      <td>0</td>\n",
       "      <td>POLYGON ((147.96384 -36.94797, 147.96383 -36.9...</td>\n",
       "      <td>0</td>\n",
       "    </tr>\n",
       "    <tr>\n",
       "      <th>730</th>\n",
       "      <td>2</td>\n",
       "      <td>Victoria</td>\n",
       "      <td>2RVIC</td>\n",
       "      <td>Rest of Vic.</td>\n",
       "      <td>205</td>\n",
       "      <td>Latrobe - Gippsland</td>\n",
       "      <td>20502</td>\n",
       "      <td>Gippsland - East</td>\n",
       "      <td>205021083</td>\n",
       "      <td>Lake King</td>\n",
       "      <td>...</td>\n",
       "      <td>0</td>\n",
       "      <td>0</td>\n",
       "      <td>0</td>\n",
       "      <td>0</td>\n",
       "      <td>0</td>\n",
       "      <td>0</td>\n",
       "      <td>0</td>\n",
       "      <td>0</td>\n",
       "      <td>POLYGON ((147.69718 -37.84794, 147.69752 -37.8...</td>\n",
       "      <td>0</td>\n",
       "    </tr>\n",
       "  </tbody>\n",
       "</table>\n",
       "<p>5 rows × 71 columns</p>\n",
       "</div>"
      ],
      "text/plain": [
       "     STE_CODE21       STE_NAME21 GCC_CODE21      GCC_NAME21  SA4_CODE21  \\\n",
       "76            1  New South Wales      1RNSW     Rest of NSW         103   \n",
       "135           1  New South Wales      1RNSW     Rest of NSW         107   \n",
       "373           1  New South Wales      1GSYD  Greater Sydney         118   \n",
       "727           2         Victoria      2RVIC    Rest of Vic.         205   \n",
       "730           2         Victoria      2RVIC    Rest of Vic.         205   \n",
       "\n",
       "                   SA4_NAME21  SA3_CODE21               SA3_NAME21  \\\n",
       "76               Central West       10303         Lithgow - Mudgee   \n",
       "135                 Illawarra       10701      Dapto - Port Kembla   \n",
       "373  Sydney - Eastern Suburbs       11801  Eastern Suburbs - North   \n",
       "727       Latrobe - Gippsland       20502         Gippsland - East   \n",
       "730       Latrobe - Gippsland       20502         Gippsland - East   \n",
       "\n",
       "     SA2_CODE21              SA2_NAME21  ...  P50_54  P55_59  P60_64  P65_69  \\\n",
       "76    103031075   Wollangambe - Wollemi  ...       0       0       0       0   \n",
       "135   107011133  Port Kembla Industrial  ...       0       2       1       1   \n",
       "373   118011342         Centennial Park  ...       0       0       0       0   \n",
       "727   205021080             Alps - East  ...       0       0       0       0   \n",
       "730   205021083               Lake King  ...       0       0       0       0   \n",
       "\n",
       "     P70_74  P75_79  P80_84  P85_and_over  \\\n",
       "76        0       0       0             0   \n",
       "135       0       0       0             0   \n",
       "373       0       0       0             0   \n",
       "727       0       0       0             0   \n",
       "730       0       0       0             0   \n",
       "\n",
       "                                              geometry  OBS_VALUE  \n",
       "76   POLYGON ((150.34697 -33.14450, 150.34693 -33.1...          0  \n",
       "135  MULTIPOLYGON (((150.94708 -34.46453, 150.94712...          5  \n",
       "373  POLYGON ((151.23775 -33.89066, 151.23873 -33.8...          0  \n",
       "727  POLYGON ((147.96384 -36.94797, 147.96383 -36.9...          0  \n",
       "730  POLYGON ((147.69718 -37.84794, 147.69752 -37.8...          0  \n",
       "\n",
       "[5 rows x 71 columns]"
      ]
     },
     "execution_count": 110,
     "metadata": {},
     "output_type": "execute_result"
    }
   ],
   "source": [
    "na_cols = df.columns[df.isna().sum() > 0]\n",
    "display(\"Missing rows;\", df[na_cols].isna().sum())\n",
    "display('Co-occuring missing rows;', df[na_cols].isna().all().sum())\n",
    "df.loc[df[na_cols[0]].isna(),:].head()"
   ]
  },
  {
   "cell_type": "markdown",
   "metadata": {},
   "source": [
    "## Join with .DAT data"
   ]
  },
  {
   "cell_type": "markdown",
   "metadata": {},
   "source": [
    "## Save to file"
   ]
  },
  {
   "cell_type": "code",
   "execution_count": 120,
   "metadata": {},
   "outputs": [
    {
     "name": "stderr",
     "output_type": "stream",
     "text": [
      "/tmp/ipykernel_2438/3492063156.py:4: UserWarning: Column names longer than 10 characters will be truncated when saved to ESRI Shapefile.\n",
      "  df.to_file(joined_data_path, driver='ESRI Shapefile', index=False)\n"
     ]
    }
   ],
   "source": [
    "import json\n",
    "\n",
    "df = gpd.GeoDataFrame(df)\n",
    "df.to_file(joined_data_path, driver='ESRI Shapefile', index=False)\n",
    "\n",
    "# Column names are truncated at 10 characters, save mapping to their original names\n",
    "with open(joined_data_path.parent / 'columnnames.json', 'w') as f: \n",
    "    json.dump({c: c[:10] for c in df.columns}, f)"
   ]
  }
 ],
 "metadata": {
  "kernelspec": {
   "display_name": "prop",
   "language": "python",
   "name": "python3"
  },
  "language_info": {
   "codemirror_mode": {
    "name": "ipython",
    "version": 3
   },
   "file_extension": ".py",
   "mimetype": "text/x-python",
   "name": "python",
   "nbconvert_exporter": "python",
   "pygments_lexer": "ipython3",
   "version": "3.9.18"
  }
 },
 "nbformat": 4,
 "nbformat_minor": 2
}
