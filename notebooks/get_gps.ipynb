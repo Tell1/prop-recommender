{
 "cells": [
  {
   "cell_type": "code",
   "execution_count": 1,
   "metadata": {},
   "outputs": [
    {
     "name": "stdout",
     "output_type": "stream",
     "text": [
      "9 GARLAND RD CESSNOCK 2325 Australia\n"
     ]
    }
   ],
   "source": [
    "from pathlib import Path\n",
    "\n",
    "import pandas as pd\n",
    "\n",
    "\n",
    "dat_file = (Path('..') / \"data/00_raw/valuergeneral/2023/20220103/001_SALES_DATA_NNME_03012022.DAT\").resolve()\n",
    "\n",
    "with open(dat_file) as f:\n",
    "    # read each line into a list element.\n",
    "    row = {}\n",
    "    for line in f:\n",
    "        row[line[0]] = line\n",
    "address = ' '.join(row['B'].split(';')[7:11]) + ' Australia'\n",
    "print(address)"
   ]
  },
  {
   "cell_type": "code",
   "execution_count": 30,
   "metadata": {},
   "outputs": [
    {
     "name": "stdout",
     "output_type": "stream",
     "text": [
      "Latitude: -32.8232339 Longitude: 151.3627843\n"
     ]
    },
    {
     "data": {
      "text/plain": [
       "[{'place_id': 50619678,\n",
       "  'licence': 'Data © OpenStreetMap contributors, ODbL 1.0. http://osm.org/copyright',\n",
       "  'osm_type': 'way',\n",
       "  'osm_id': 68293113,\n",
       "  'lat': '-32.8232339',\n",
       "  'lon': '151.3627843',\n",
       "  'category': 'highway',\n",
       "  'type': 'residential',\n",
       "  'place_rank': 26,\n",
       "  'importance': 0.10000999999999993,\n",
       "  'addresstype': 'road',\n",
       "  'name': 'Garland Road',\n",
       "  'display_name': 'Garland Road, Cessnock, Cessnock City Council, New South Wales, 2325, Australia',\n",
       "  'boundingbox': ['-32.8235289', '-32.8223082', '151.3627611', '151.3629793']}]"
      ]
     },
     "execution_count": 30,
     "metadata": {},
     "output_type": "execute_result"
    }
   ],
   "source": [
    "import requests\n",
    "import urllib.parse\n",
    "\n",
    "# Example address = 'Shivaji Nagar, Bangalore, KA 560001'\n",
    "url = f\"https://nominatim.openstreetmap.org/search.php?q={urllib.parse.quote(address)}&format=jsonv2\"\n",
    "\n",
    "response = requests.get(url).json()\n",
    "lat_lon = (response[0]['lat'], response[0]['lon'])\n",
    "print(f\"Latitude: {response[0]['lat']} Longitude: {response[0]['lon']}\")\n",
    "response"
   ]
  },
  {
   "cell_type": "markdown",
   "metadata": {},
   "source": [
    "## Get the nationalmaps data for this GPS"
   ]
  },
  {
   "cell_type": "code",
   "execution_count": 14,
   "metadata": {},
   "outputs": [],
   "source": [
    "import geopandas as gpd\n",
    "\n",
    "from pathlib import Path\n",
    "\n",
    "\n",
    "DATA_DIR = (Path().resolve().parent / \"data\" )\n",
    "joined_data_path = DATA_DIR / \"01_interim\" / \"nationalmaps\" / \"joined_nationalmaps.shp\"\n",
    "\n",
    "df: gpd.GeoDataFrame = gpd.read_file(joined_data_path)"
   ]
  },
  {
   "cell_type": "code",
   "execution_count": 58,
   "metadata": {},
   "outputs": [
    {
     "name": "stdout",
     "output_type": "stream",
     "text": [
      "Address is in statistical area:  Cessnock\n"
     ]
    }
   ],
   "source": [
    "from shapely.geometry import Polygon, LineString, Point\n",
    "\n",
    "for i, ge in enumerate(df.geometry):\n",
    "    if ge.contains(Point(float(lat_lon[1]), float(lat_lon[0]))):\n",
    "        print('Address is in statistical area: ', df.loc[i,'SA2_NAME21'])\n",
    "        df.iloc[i,:]"
   ]
  }
 ],
 "metadata": {
  "kernelspec": {
   "display_name": "prop",
   "language": "python",
   "name": "python3"
  },
  "language_info": {
   "codemirror_mode": {
    "name": "ipython",
    "version": 3
   },
   "file_extension": ".py",
   "mimetype": "text/x-python",
   "name": "python",
   "nbconvert_exporter": "python",
   "pygments_lexer": "ipython3",
   "version": "3.9.18"
  }
 },
 "nbformat": 4,
 "nbformat_minor": 2
}
