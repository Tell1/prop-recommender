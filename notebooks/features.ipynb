{
 "cells": [
  {
   "cell_type": "markdown",
   "metadata": {},
   "source": []
  },
  {
   "cell_type": "code",
   "execution_count": 2,
   "metadata": {},
   "outputs": [],
   "source": [
    "import pandas as pd"
   ]
  },
  {
   "cell_type": "markdown",
   "metadata": {},
   "source": [
    "## Group age brackets\n"
   ]
  },
  {
   "cell_type": "markdown",
   "metadata": {},
   "source": [
    "## Convert Age brackets to ratios\n"
   ]
  },
  {
   "cell_type": "code",
   "execution_count": 16,
   "metadata": {},
   "outputs": [
    {
     "name": "stdout",
     "output_type": "stream",
     "text": [
      "   P50_54  P55_59  P85_and_ov  0-58\n",
      "0     318     355          87   318\n",
      "1     569     594         113   569\n"
     ]
    }
   ],
   "source": [
    "import pandas as pd\n",
    "\n",
    "def group_age_brackets(df, age_brackets: list[tuple]) -> pd.DataFrame:\n",
    "    \"\"\"Creates new columns with the age brackets grouped by the given age brackets.\n",
    "    If there are gaps between the brackets, raises an error listing those gaps.\"\"\"\n",
    "    new_df = df.copy()\n",
    "    \n",
    "    # Sort the age brackets by the lower age\n",
    "    age_brackets.sort()\n",
    "\n",
    "    # Check for gaps between the age brackets\n",
    "    gaps = []\n",
    "    prev_upper_age = -1  # Start with -1 to include 0\n",
    "    for lower_age, upper_age in age_brackets:\n",
    "        if prev_upper_age < lower_age - 1:\n",
    "            gaps.append(f\"{prev_upper_age + 1} -> {lower_age - 1}\")\n",
    "        prev_upper_age = upper_age\n",
    "\n",
    "    if gaps:\n",
    "        raise ValueError(f\"Error -> there is a gap between age ranges: {', '.join(gaps)} are not enclosed in given age_brackets\")\n",
    "\n",
    "    for lower_age, upper_age in age_brackets:\n",
    "        # Initialize a new column for the age bracket with zeros\n",
    "        new_df[f'{lower_age}-{upper_age}'] = 0\n",
    "        for column in df.columns:\n",
    "            if column.startswith('P'):\n",
    "                # Extract age from column name\n",
    "                age_part = column.split('_')[1]\n",
    "                if age_part.isdigit():\n",
    "                    age = int(age_part)\n",
    "                elif age_part == 'and_ov':  # Handle 'and_over' case\n",
    "                    age = upper_age + 1  # Include this column in all brackets that include and exceed this age\n",
    "                else:\n",
    "                    # If the column name does not follow expected format, skip it\n",
    "                    continue\n",
    "                \n",
    "                # Check if the age falls within the current age bracket\n",
    "                if lower_age <= age <= upper_age:\n",
    "                    new_df[f'{lower_age}-{upper_age}'] += df[column]\n",
    "\n",
    "    return new_df\n",
    "\n",
    "# Example use\n",
    "example_df = pd.DataFrame({'P50_54': [318, 569], 'P55_59': [355, 594], 'P85_and_ov': [87, 113]})\n",
    "example_age_brackets = [(0, 58)]\n",
    "result_df = group_age_brackets(example_df, example_age_brackets)\n",
    "print(result_df)"
   ]
  }
 ],
 "metadata": {
  "kernelspec": {
   "display_name": "Python 3",
   "language": "python",
   "name": "python3"
  },
  "language_info": {
   "codemirror_mode": {
    "name": "ipython",
    "version": 3
   },
   "file_extension": ".py",
   "mimetype": "text/x-python",
   "name": "python",
   "nbconvert_exporter": "python",
   "pygments_lexer": "ipython3",
   "version": "3.9.18"
  }
 },
 "nbformat": 4,
 "nbformat_minor": 2
}
