{
 "cells": [
  {
   "cell_type": "markdown",
   "metadata": {},
   "source": [
    "# Join nationalmaps demographic data, with latitude and longitude and .DAT sales data"
   ]
  },
  {
   "cell_type": "code",
   "execution_count": 24,
   "metadata": {},
   "outputs": [],
   "source": [
    "from pathlib import Path\n",
    "import geopandas as gpd\n",
    "import pandas as pd\n",
    "\n",
    "\n",
    "DATA_DIR = (Path().resolve().parent / \"data\" )\n",
    "joined_data_path = DATA_DIR / \"01_interim\" / \"nationalmaps\" / \"joined_nationalmaps.shp\"\n",
    "dat_with_lat_lon_path = DATA_DIR / \"01_interim/valuergeneral/DAT_with_lat_lon.csv\"\n",
    "\n",
    "features_path = DATA_DIR / \"02_processed\" / \"features_raw.csv\""
   ]
  },
  {
   "cell_type": "code",
   "execution_count": 3,
   "metadata": {},
   "outputs": [
    {
     "data": {
      "text/plain": [
       "(2454, 71)"
      ]
     },
     "execution_count": 3,
     "metadata": {},
     "output_type": "execute_result"
    }
   ],
   "source": [
    "df_natmaps = gpd.read_file(joined_data_path)\n",
    "df_natmaps.shape"
   ]
  },
  {
   "cell_type": "code",
   "execution_count": 4,
   "metadata": {},
   "outputs": [
    {
     "data": {
      "text/plain": [
       "(58258, 47)"
      ]
     },
     "execution_count": 4,
     "metadata": {},
     "output_type": "execute_result"
    }
   ],
   "source": [
    "df_dat_with_lat_lon = pd.read_csv(dat_with_lat_lon_path)\n",
    "df_dat_with_lat_lon.shape"
   ]
  },
  {
   "cell_type": "markdown",
   "metadata": {},
   "source": [
    "### Demographic zones data mapped to addresses."
   ]
  },
  {
   "cell_type": "code",
   "execution_count": 5,
   "metadata": {},
   "outputs": [],
   "source": [
    "import pandas as pd\n",
    "import geopandas as gpd\n",
    "from shapely.geometry import Point\n",
    "\n",
    "# Assuming G is your GeoPandas dataframe with a 'geometry' column of Polygons\n",
    "# and A is your Pandas dataframe with 'lat' and 'lon' columns.\n",
    "A = df_dat_with_lat_lon.copy()\n",
    "G = df_natmaps.copy()\n",
    "\n",
    "# Convert the 'lat' and 'lon' columns of A into a GeoSeries of Point geometries\n",
    "geometry = [Point(xy) for xy in zip(A['lon'], A['lat'])]\n",
    "A = gpd.GeoDataFrame(A, geometry=geometry)\n",
    "\n",
    "# Ensure both dataframes use the same coordinate reference system (CRS)\n",
    "A.set_crs(G.crs, inplace=True)\n",
    "\n",
    "# Perform the spatial join; this associates rows of A with polygons in G\n",
    "result = gpd.sjoin(A, G, how='left', op='within')\n",
    "\n",
    "# 'result' now has all columns from A and G where each point in A falls within a polygon in G"
   ]
  },
  {
   "cell_type": "markdown",
   "metadata": {},
   "source": [
    "## Select variables to create feature set from"
   ]
  },
  {
   "cell_type": "code",
   "execution_count": 15,
   "metadata": {},
   "outputs": [
    {
     "name": "stdout",
     "output_type": "stream",
     "text": [
      "['Unnamed: 0', 'index', 'fileType', 'districtCode', 'downloadDateTime', 'submitterUserId', 'districtCode.1', 'propertyId', 'saleCounter', 'downloadDateTime.1']\n",
      "['propertyName', 'propertyUnitNumber', 'propertyHouseNumber', 'propertyStreetName', 'propertyLocality', 'propertyPostCode', 'area', 'areaType', 'contractDate', 'settlementDate']\n",
      "['purchasePrice', 'zoning', 'natureOfProperty', 'primaryPurpose', 'strataLotNumber', 'componentCode', 'saleCode', 'percentInterestOfSale', 'dealingNumber', 'districtCode.2']\n",
      "['propertyId.1', 'saleCounter.1', 'downloadDateTime.2', 'propertyLegalDescription', 'districtCode.3', 'propertyId.2', 'saleCounter.2', 'downloadDateTime.3', 'purchaserVendor', 'totalRecords']\n",
      "['totalBRecords', 'totalCRecords', 'totalDRecords', 'address_str', 'address', 'lat', 'lon', 'geometry', 'index_right', 'STE_CODE21']\n",
      "['STE_NAME21', 'GCC_CODE21', 'GCC_NAME21', 'SA4_CODE21', 'SA4_NAME21', 'SA3_CODE21', 'SA3_NAME21', 'SA2_CODE21', 'SA2_NAME21', 'Males']\n",
      "['Females', 'Persons', 'Sex_ratio', 'Median_age', 'M0_4', 'M5_9', 'M10_14', 'M15_19', 'M20_24', 'M25_29']\n",
      "['M30_34', 'M35_39', 'M40_44', 'M45_49', 'M50_54', 'M55_59', 'M60_64', 'M65_69', 'M70_74', 'M75_79']\n",
      "['M80_84', 'M85_and_ov', 'F0_4', 'F5_9', 'F10_14', 'F15_19', 'F20_24', 'F25_29', 'F30_34', 'F35_39']\n",
      "['F40_44', 'F45_49', 'F50_54', 'F55_59', 'F60_64', 'F65_69', 'F70_74', 'F75_79', 'F80_84', 'F85_and_ov']\n",
      "['P0_4', 'P5_9', 'P10_14', 'P15_19', 'P20_24', 'P25_29', 'P30_34', 'P35_39', 'P40_44', 'P45_49']\n",
      "['P50_54', 'P55_59', 'P60_64', 'P65_69', 'P70_74', 'P75_79', 'P80_84', 'P85_and_ov', 'OBS_VALUE']\n"
     ]
    }
   ],
   "source": [
    "import itertools\n",
    "\n",
    "chunk_size = 10\n",
    "c = list(result.columns)\n",
    "chunks = [c[i:i + chunk_size] for i in range(0, len(c), chunk_size)]\n",
    "# use itertools to iterate over sequential chunks of size 10 in the list\n",
    "for chunk in chunks:\n",
    "    print(chunk)"
   ]
  },
  {
   "cell_type": "code",
   "execution_count": 26,
   "metadata": {},
   "outputs": [],
   "source": [
    "df_joined = pd.DataFrame(result)"
   ]
  },
  {
   "cell_type": "markdown",
   "metadata": {},
   "source": [
    "### Filter out unwanted columns"
   ]
  },
  {
   "cell_type": "code",
   "execution_count": 27,
   "metadata": {},
   "outputs": [
    {
     "data": {
      "text/html": [
       "<div>\n",
       "<style scoped>\n",
       "    .dataframe tbody tr th:only-of-type {\n",
       "        vertical-align: middle;\n",
       "    }\n",
       "\n",
       "    .dataframe tbody tr th {\n",
       "        vertical-align: top;\n",
       "    }\n",
       "\n",
       "    .dataframe thead th {\n",
       "        text-align: right;\n",
       "    }\n",
       "</style>\n",
       "<table border=\"1\" class=\"dataframe\">\n",
       "  <thead>\n",
       "    <tr style=\"text-align: right;\">\n",
       "      <th></th>\n",
       "      <th>Median_age</th>\n",
       "      <th>M0_4</th>\n",
       "      <th>M5_9</th>\n",
       "      <th>M10_14</th>\n",
       "      <th>M15_19</th>\n",
       "      <th>M20_24</th>\n",
       "      <th>M25_29</th>\n",
       "      <th>M30_34</th>\n",
       "      <th>M35_39</th>\n",
       "      <th>M40_44</th>\n",
       "      <th>...</th>\n",
       "      <th>OBS_VALUE</th>\n",
       "      <th>Males</th>\n",
       "      <th>Females</th>\n",
       "      <th>Persons</th>\n",
       "      <th>Sex_ratio</th>\n",
       "      <th>propertyUnitNumber</th>\n",
       "      <th>propertyHouseNumber</th>\n",
       "      <th>settlementDate</th>\n",
       "      <th>natureOfProperty</th>\n",
       "      <th>primaryPurpose</th>\n",
       "    </tr>\n",
       "  </thead>\n",
       "  <tbody>\n",
       "    <tr>\n",
       "      <th>0</th>\n",
       "      <td>NaN</td>\n",
       "      <td>NaN</td>\n",
       "      <td>NaN</td>\n",
       "      <td>NaN</td>\n",
       "      <td>NaN</td>\n",
       "      <td>NaN</td>\n",
       "      <td>NaN</td>\n",
       "      <td>NaN</td>\n",
       "      <td>NaN</td>\n",
       "      <td>NaN</td>\n",
       "      <td>...</td>\n",
       "      <td>NaN</td>\n",
       "      <td>NaN</td>\n",
       "      <td>NaN</td>\n",
       "      <td>NaN</td>\n",
       "      <td>NaN</td>\n",
       "      <td>20</td>\n",
       "      <td>59</td>\n",
       "      <td>20211223.0</td>\n",
       "      <td>R</td>\n",
       "      <td>RESIDENCE</td>\n",
       "    </tr>\n",
       "    <tr>\n",
       "      <th>1</th>\n",
       "      <td>41.5</td>\n",
       "      <td>636.0</td>\n",
       "      <td>710.0</td>\n",
       "      <td>774.0</td>\n",
       "      <td>696.0</td>\n",
       "      <td>618.0</td>\n",
       "      <td>408.0</td>\n",
       "      <td>522.0</td>\n",
       "      <td>610.0</td>\n",
       "      <td>722.0</td>\n",
       "      <td>...</td>\n",
       "      <td>16600</td>\n",
       "      <td>10048.0</td>\n",
       "      <td>10574.0</td>\n",
       "      <td>20622.0</td>\n",
       "      <td>95.0</td>\n",
       "      <td>NaN</td>\n",
       "      <td>28</td>\n",
       "      <td>20211223.0</td>\n",
       "      <td>R</td>\n",
       "      <td>RESIDENCE</td>\n",
       "    </tr>\n",
       "    <tr>\n",
       "      <th>2</th>\n",
       "      <td>43.4</td>\n",
       "      <td>349.0</td>\n",
       "      <td>430.0</td>\n",
       "      <td>457.0</td>\n",
       "      <td>414.0</td>\n",
       "      <td>303.0</td>\n",
       "      <td>234.0</td>\n",
       "      <td>284.0</td>\n",
       "      <td>344.0</td>\n",
       "      <td>403.0</td>\n",
       "      <td>...</td>\n",
       "      <td>9605</td>\n",
       "      <td>6038.0</td>\n",
       "      <td>5907.0</td>\n",
       "      <td>11945.0</td>\n",
       "      <td>102.2</td>\n",
       "      <td>NaN</td>\n",
       "      <td>808 C</td>\n",
       "      <td>20211223.0</td>\n",
       "      <td>V</td>\n",
       "      <td>VACANT LAND</td>\n",
       "    </tr>\n",
       "    <tr>\n",
       "      <th>3</th>\n",
       "      <td>33.4</td>\n",
       "      <td>429.0</td>\n",
       "      <td>453.0</td>\n",
       "      <td>376.0</td>\n",
       "      <td>500.0</td>\n",
       "      <td>1124.0</td>\n",
       "      <td>1037.0</td>\n",
       "      <td>720.0</td>\n",
       "      <td>571.0</td>\n",
       "      <td>459.0</td>\n",
       "      <td>...</td>\n",
       "      <td>14159</td>\n",
       "      <td>8607.0</td>\n",
       "      <td>8147.0</td>\n",
       "      <td>16754.0</td>\n",
       "      <td>105.6</td>\n",
       "      <td>NaN</td>\n",
       "      <td>51</td>\n",
       "      <td>20211223.0</td>\n",
       "      <td>R</td>\n",
       "      <td>RESIDENCE</td>\n",
       "    </tr>\n",
       "    <tr>\n",
       "      <th>4</th>\n",
       "      <td>38.6</td>\n",
       "      <td>338.0</td>\n",
       "      <td>333.0</td>\n",
       "      <td>331.0</td>\n",
       "      <td>310.0</td>\n",
       "      <td>284.0</td>\n",
       "      <td>219.0</td>\n",
       "      <td>272.0</td>\n",
       "      <td>308.0</td>\n",
       "      <td>301.0</td>\n",
       "      <td>...</td>\n",
       "      <td>7176</td>\n",
       "      <td>4606.0</td>\n",
       "      <td>4482.0</td>\n",
       "      <td>9088.0</td>\n",
       "      <td>102.8</td>\n",
       "      <td>NaN</td>\n",
       "      <td>16</td>\n",
       "      <td>20211224.0</td>\n",
       "      <td>R</td>\n",
       "      <td>RESIDENCE</td>\n",
       "    </tr>\n",
       "  </tbody>\n",
       "</table>\n",
       "<p>5 rows × 65 columns</p>\n",
       "</div>"
      ],
      "text/plain": [
       "   Median_age   M0_4   M5_9  M10_14  M15_19  M20_24  M25_29  M30_34  M35_39  \\\n",
       "0         NaN    NaN    NaN     NaN     NaN     NaN     NaN     NaN     NaN   \n",
       "1        41.5  636.0  710.0   774.0   696.0   618.0   408.0   522.0   610.0   \n",
       "2        43.4  349.0  430.0   457.0   414.0   303.0   234.0   284.0   344.0   \n",
       "3        33.4  429.0  453.0   376.0   500.0  1124.0  1037.0   720.0   571.0   \n",
       "4        38.6  338.0  333.0   331.0   310.0   284.0   219.0   272.0   308.0   \n",
       "\n",
       "   M40_44  ...  OBS_VALUE    Males  Females  Persons  Sex_ratio  \\\n",
       "0     NaN  ...        NaN      NaN      NaN      NaN        NaN   \n",
       "1   722.0  ...      16600  10048.0  10574.0  20622.0       95.0   \n",
       "2   403.0  ...       9605   6038.0   5907.0  11945.0      102.2   \n",
       "3   459.0  ...      14159   8607.0   8147.0  16754.0      105.6   \n",
       "4   301.0  ...       7176   4606.0   4482.0   9088.0      102.8   \n",
       "\n",
       "   propertyUnitNumber  propertyHouseNumber  settlementDate  natureOfProperty  \\\n",
       "0                  20                   59      20211223.0                 R   \n",
       "1                 NaN                   28      20211223.0                 R   \n",
       "2                 NaN                808 C      20211223.0                 V   \n",
       "3                 NaN                   51      20211223.0                 R   \n",
       "4                 NaN                   16      20211224.0                 R   \n",
       "\n",
       "   primaryPurpose  \n",
       "0       RESIDENCE  \n",
       "1       RESIDENCE  \n",
       "2     VACANT LAND  \n",
       "3       RESIDENCE  \n",
       "4       RESIDENCE  \n",
       "\n",
       "[5 rows x 65 columns]"
      ]
     },
     "execution_count": 27,
     "metadata": {},
     "output_type": "execute_result"
    }
   ],
   "source": [
    "f_pop_age = lambda c: (c.startswith('P') or c.startswith('M') or c.startswith('F')) and ('_' in c) and c[1].isdigit() or ('Median_age' in c)\n",
    "f_income = lambda c: 'OBS_VALUE' == c\n",
    "f_pop = lambda c: c in ['Females', 'Males', 'Persons', 'Sex_ratio']\n",
    "f_purchase_metadata = lambda c: c in ['settlementDate', 'natureOfProperty', 'primaryPurpose', 'propertyUnitNumber', 'propertyHouseNumber']\n",
    "col_filters = [f_pop_age, \n",
    "               f_income, \n",
    "               f_pop, \n",
    "               f_purchase_metadata]\n",
    "# new dataframe with only columns that match the filter\n",
    "df_joined = df_joined[[c for f in col_filters for c in df_joined.columns if f(c)]]\n",
    "df_joined.head()"
   ]
  },
  {
   "cell_type": "code",
   "execution_count": 28,
   "metadata": {},
   "outputs": [],
   "source": [
    "df_joined.to_csv(features_path, index=False)"
   ]
  },
  {
   "cell_type": "code",
   "execution_count": 29,
   "metadata": {},
   "outputs": [
    {
     "name": "stdout",
     "output_type": "stream",
     "text": [
      "<class 'pandas.core.frame.DataFrame'>\n",
      "Index: 58258 entries, 0 to 58257\n",
      "Data columns (total 65 columns):\n",
      " #   Column               Non-Null Count  Dtype  \n",
      "---  ------               --------------  -----  \n",
      " 0   Median_age           15196 non-null  float64\n",
      " 1   M0_4                 15196 non-null  float64\n",
      " 2   M5_9                 15196 non-null  float64\n",
      " 3   M10_14               15196 non-null  float64\n",
      " 4   M15_19               15196 non-null  float64\n",
      " 5   M20_24               15196 non-null  float64\n",
      " 6   M25_29               15196 non-null  float64\n",
      " 7   M30_34               15196 non-null  float64\n",
      " 8   M35_39               15196 non-null  float64\n",
      " 9   M40_44               15196 non-null  float64\n",
      " 10  M45_49               15196 non-null  float64\n",
      " 11  M50_54               15196 non-null  float64\n",
      " 12  M55_59               15196 non-null  float64\n",
      " 13  M60_64               15196 non-null  float64\n",
      " 14  M65_69               15196 non-null  float64\n",
      " 15  M70_74               15196 non-null  float64\n",
      " 16  M75_79               15196 non-null  float64\n",
      " 17  M80_84               15196 non-null  float64\n",
      " 18  M85_and_ov           15196 non-null  float64\n",
      " 19  F0_4                 15196 non-null  float64\n",
      " 20  F5_9                 15196 non-null  float64\n",
      " 21  F10_14               15196 non-null  float64\n",
      " 22  F15_19               15196 non-null  float64\n",
      " 23  F20_24               15196 non-null  float64\n",
      " 24  F25_29               15196 non-null  float64\n",
      " 25  F30_34               15196 non-null  float64\n",
      " 26  F35_39               15196 non-null  float64\n",
      " 27  F40_44               15196 non-null  float64\n",
      " 28  F45_49               15196 non-null  float64\n",
      " 29  F50_54               15196 non-null  float64\n",
      " 30  F55_59               15196 non-null  float64\n",
      " 31  F60_64               15196 non-null  float64\n",
      " 32  F65_69               15196 non-null  float64\n",
      " 33  F70_74               15196 non-null  float64\n",
      " 34  F75_79               15196 non-null  float64\n",
      " 35  F80_84               15196 non-null  float64\n",
      " 36  F85_and_ov           15196 non-null  float64\n",
      " 37  P0_4                 15196 non-null  float64\n",
      " 38  P5_9                 15196 non-null  float64\n",
      " 39  P10_14               15196 non-null  float64\n",
      " 40  P15_19               15196 non-null  float64\n",
      " 41  P20_24               15196 non-null  float64\n",
      " 42  P25_29               15196 non-null  float64\n",
      " 43  P30_34               15196 non-null  float64\n",
      " 44  P35_39               15196 non-null  float64\n",
      " 45  P40_44               15196 non-null  float64\n",
      " 46  P45_49               15196 non-null  float64\n",
      " 47  P50_54               15196 non-null  float64\n",
      " 48  P55_59               15196 non-null  float64\n",
      " 49  P60_64               15196 non-null  float64\n",
      " 50  P65_69               15196 non-null  float64\n",
      " 51  P70_74               15196 non-null  float64\n",
      " 52  P75_79               15196 non-null  float64\n",
      " 53  P80_84               15196 non-null  float64\n",
      " 54  P85_and_ov           15196 non-null  float64\n",
      " 55  OBS_VALUE            15196 non-null  object \n",
      " 56  Males                15196 non-null  float64\n",
      " 57  Females              15196 non-null  float64\n",
      " 58  Persons              15196 non-null  float64\n",
      " 59  Sex_ratio            15196 non-null  float64\n",
      " 60  propertyUnitNumber   5696 non-null   object \n",
      " 61  propertyHouseNumber  19713 non-null  object \n",
      " 62  settlementDate       20131 non-null  float64\n",
      " 63  natureOfProperty     20131 non-null  object \n",
      " 64  primaryPurpose       20131 non-null  object \n",
      "dtypes: float64(60), object(5)\n",
      "memory usage: 29.3+ MB\n"
     ]
    }
   ],
   "source": [
    "df_joined.info()"
   ]
  }
 ],
 "metadata": {
  "kernelspec": {
   "display_name": "prop",
   "language": "python",
   "name": "python3"
  },
  "language_info": {
   "codemirror_mode": {
    "name": "ipython",
    "version": 3
   },
   "file_extension": ".py",
   "mimetype": "text/x-python",
   "name": "python",
   "nbconvert_exporter": "python",
   "pygments_lexer": "ipython3",
   "version": "3.9.18"
  }
 },
 "nbformat": 4,
 "nbformat_minor": 2
}
